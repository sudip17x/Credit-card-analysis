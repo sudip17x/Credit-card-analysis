{
 "cells": [
  {
   "cell_type": "code",
   "execution_count": 2,
   "id": "5ea47819-73d6-4d97-ab6f-a34b80f00f51",
   "metadata": {},
   "outputs": [
    {
     "name": "stdout",
     "output_type": "stream",
     "text": [
      "Data cleaned and saved as 'credit_card_cleaned.csv'\n"
     ]
    }
   ],
   "source": [
    "import pandas as pd\n",
    "import numpy as np\n",
    "\n",
    "# Load data\n",
    "df = pd.read_csv(r\"D:\\DATA ANALYSIS PROJECTS\\CERDIT CARD\\credit_card.csv\")\n",
    "\n",
    "# ---------- 1. Date Formatting ----------\n",
    "# Convert Week_Start_Date to datetime\n",
    "df['Week_Start_Date'] = pd.to_datetime(df['Week_Start_Date'], errors='coerce', dayfirst=True)\n",
    "\n",
    "# ---------- 2. Handle Missing Values ----------\n",
    "# Fill numeric missing values with median\n",
    "num_cols = df.select_dtypes(include=[np.number]).columns\n",
    "df[num_cols] = df[num_cols].apply(lambda x: x.fillna(x.median()))\n",
    "\n",
    "# Fill categorical missing values with 'Unknown'\n",
    "cat_cols = df.select_dtypes(exclude=[np.number]).columns\n",
    "df[cat_cols] = df[cat_cols].fillna('Unknown')\n",
    "\n",
    "# ---------- 3. Standardize Categories ----------\n",
    "# Strip spaces and make consistent case for categorical columns\n",
    "for col in ['Card_Category', 'Use Chip', 'Exp Type']:\n",
    "    df[col] = df[col].str.strip().str.title()\n",
    "\n",
    "# ---------- 4. Convert Data Types ----------\n",
    "# Ensure numeric columns are correct type\n",
    "df['Annual_Fees'] = pd.to_numeric(df['Annual_Fees'], errors='coerce')\n",
    "df['Customer_Acq_Cost'] = pd.to_numeric(df['Customer_Acq_Cost'], errors='coerce')\n",
    "df['Credit_Limit'] = pd.to_numeric(df['Credit_Limit'], errors='coerce')\n",
    "df['Total_Revolving_Bal'] = pd.to_numeric(df['Total_Revolving_Bal'], errors='coerce')\n",
    "df['Total_Trans_Amt'] = pd.to_numeric(df['Total_Trans_Amt'], errors='coerce')\n",
    "df['Total_Trans_Vol'] = pd.to_numeric(df['Total_Trans_Vol'], errors='coerce')\n",
    "df['Avg_Utilization_Ratio'] = pd.to_numeric(df['Avg_Utilization_Ratio'], errors='coerce')\n",
    "df['Interest_Earned'] = pd.to_numeric(df['Interest_Earned'], errors='coerce')\n",
    "df['Delinquent_Acc'] = pd.to_numeric(df['Delinquent_Acc'], errors='coerce')\n",
    "\n",
    "# ---------- 5. Create New Useful Columns ----------\n",
    "# Activation Status\n",
    "df['Activation_Status'] = df['Activation_30_Days'].apply(lambda x: 'Activated' if x == 1 else 'Not Activated')\n",
    "\n",
    "# Total Revenue (Annual Fees + Interest)\n",
    "df['Total_Revenue'] = df['Annual_Fees'] + df['Interest_Earned']\n",
    "\n",
    "# Quarter-Year column\n",
    "df['Quarter_Year'] = df['Qtr'].astype(str) + '-' + df['current_year'].astype(str)\n",
    "\n",
    "# ---------- 6. Remove Duplicates ----------\n",
    "df.drop_duplicates(inplace=True)\n",
    "\n",
    "# ---------- 7. Save Cleaned Data ----------\n",
    "df.to_csv(\"credit_card_cleaned.csv\", index=False)\n",
    "\n",
    "print(\"Data cleaned and saved as 'credit_card_cleaned.csv'\")\n"
   ]
  },
  {
   "cell_type": "code",
   "execution_count": 4,
   "id": "399f460d-ea07-4628-a3dc-0a1c73f3550e",
   "metadata": {},
   "outputs": [
    {
     "name": "stdout",
     "output_type": "stream",
     "text": [
      "✅ Cleaned data saved as 'credit_card_cleaned.csv'\n"
     ]
    }
   ],
   "source": [
    "# Save cleaned DataFrame to CSV\n",
    "df.to_csv(r\"D:\\DATA ANALYSIS PROJECTS\\CERDIT CARD\\credit_card.csv\", index=False)\n",
    "\n",
    "print(\"✅ Cleaned data saved as 'credit_card_cleaned.csv'\")\n"
   ]
  },
  {
   "cell_type": "code",
   "execution_count": 6,
   "id": "4a76b6cc-3d82-499f-a882-3f34a697ef8c",
   "metadata": {},
   "outputs": [
    {
     "name": "stdout",
     "output_type": "stream",
     "text": [
      "✅ File saved to: C:\\Users\\Sudip\\Downloads\\credit_card_cleaned.csv\n"
     ]
    }
   ],
   "source": [
    "import os\n",
    "\n",
    "# Path to Downloads\n",
    "downloads_path = os.path.join(os.path.expanduser(\"~\"), \"Downloads\", \"credit_card_cleaned.csv\")\n",
    "\n",
    "# Save file\n",
    "df.to_csv(downloads_path, index=False)\n",
    "\n",
    "print(f\"✅ File saved to: {downloads_path}\")\n"
   ]
  },
  {
   "cell_type": "code",
   "execution_count": null,
   "id": "817956fe-19b0-44aa-b2a3-c043aa41a3c8",
   "metadata": {},
   "outputs": [],
   "source": []
  },
  {
   "cell_type": "code",
   "execution_count": null,
   "id": "340a4800-f83e-49ab-8651-eba2c823f01c",
   "metadata": {},
   "outputs": [],
   "source": []
  }
 ],
 "metadata": {
  "kernelspec": {
   "display_name": "Python 3 (ipykernel)",
   "language": "python",
   "name": "python3"
  },
  "language_info": {
   "codemirror_mode": {
    "name": "ipython",
    "version": 3
   },
   "file_extension": ".py",
   "mimetype": "text/x-python",
   "name": "python",
   "nbconvert_exporter": "python",
   "pygments_lexer": "ipython3",
   "version": "3.13.5"
  }
 },
 "nbformat": 4,
 "nbformat_minor": 5
}
